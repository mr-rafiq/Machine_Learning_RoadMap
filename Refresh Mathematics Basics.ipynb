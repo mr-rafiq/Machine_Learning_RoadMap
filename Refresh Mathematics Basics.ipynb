{
 "cells": [
  {
   "cell_type": "markdown",
   "id": "9bcfbda2",
   "metadata": {},
   "source": [
    "#  Refresh Mathematics Basics - Practical Checklist\n",
    "\n",
    "```Refresh your knowledge in linear algebra and calculus, especially focusing on concepts used in machine learning.```\n"
   ]
  },
  {
   "cell_type": "markdown",
   "id": "ed05a71c",
   "metadata": {},
   "source": [
    "## Linear Algebra:"
   ]
  },
  {
   "cell_type": "markdown",
   "id": "d08a6340",
   "metadata": {},
   "source": [
    " ### Vectors and Matrices:\n",
    "  - [ ] Create and manipulate vectors and matrices using NumPy.\n",
    "  - [ ] Perform basic operations such as addition, subtraction, and multiplication.\n",
    "  - [ ] Understand dot product and cross product operations."
   ]
  },
  {
   "cell_type": "code",
   "execution_count": 2,
   "id": "4b7eebe1",
   "metadata": {
    "scrolled": true
   },
   "outputs": [
    {
     "name": "stdout",
     "output_type": "stream",
     "text": [
      "Vector A: [1 2 3]\n",
      "Vector B: [4 5 6]\n",
      "Dotproduct: 32\n"
     ]
    }
   ],
   "source": [
    "import numpy as np\n",
    "\n",
    "# Example: Creating a vector and performing operations\n",
    "vector_a = np.array([1, 2, 3])\n",
    "vector_b = np.array([4, 5, 6])\n",
    "\n",
    "print(f\"Vector A: {vector_a}\")\n",
    "print(f\"Vector B: {vector_b}\")\n",
    "\n",
    "dot_product = np.dot(vector_a, vector_b)\n",
    "\n",
    "print(f\"Dotproduct: {dot_product}\")\n"
   ]
  },
  {
   "cell_type": "markdown",
   "id": "73faba45",
   "metadata": {},
   "source": [
    " ### Vector Operations:\n",
    "  - [ ] Calculate norm (magnitude) of a vector.\n",
    "  - [ ] Normalize a vector."
   ]
  },
  {
   "cell_type": "code",
   "execution_count": 3,
   "id": "21e94b94",
   "metadata": {},
   "outputs": [
    {
     "name": "stdout",
     "output_type": "stream",
     "text": [
      "3.7416573867739413\n",
      "normalizing a vector: [4 5 6]\n"
     ]
    }
   ],
   "source": [
    "# Example: Calculating norm and normalizing a vector\n",
    "norm_a = np.linalg.norm(vector_a)\n",
    "print(norm_a)\n",
    "normalized_a = vector_a / norm_a\n",
    "print(f\"normalizing a vector: {vector_b}\")\n"
   ]
  },
  {
   "cell_type": "markdown",
   "id": "6c6bb79e",
   "metadata": {},
   "source": [
    " ### Matrix Operations:\n",
    "  - [ ] Transpose a matrix.\n",
    "  - [ ] Calculate the determinant and inverse of a matrix."
   ]
  },
  {
   "cell_type": "code",
   "execution_count": 5,
   "id": "fb30012d",
   "metadata": {
    "scrolled": false
   },
   "outputs": [
    {
     "name": "stdout",
     "output_type": "stream",
     "text": [
      "Matrix: [[1 2]\n",
      " [3 4]]\n",
      "Transpose Matrix: [[1 3]\n",
      " [2 4]]\n",
      "Determinant: -2.0000000000000004\n"
     ]
    }
   ],
   "source": [
    "# Example: Transposing a matrix and calculating determinant\n",
    "matrix_a = np.array([[1, 2], [3, 4]])\n",
    "print(f\"Matrix: {matrix_a}\")\n",
    "\n",
    "transposed_a = np.transpose(matrix_a)\n",
    "print(f\"Transpose Matrix: {transposed_a}\")\n",
    "\n",
    "determinant_a = np.linalg.det(matrix_a)\n",
    "print(f\"Determinant: {determinant_a}\")\n"
   ]
  },
  {
   "cell_type": "markdown",
   "id": "03240e4b",
   "metadata": {},
   "source": [
    "## Calculus:"
   ]
  },
  {
   "cell_type": "markdown",
   "id": "e933c92f",
   "metadata": {},
   "source": [
    " ### Derivatives of Matrix:\n",
    "  - [ ] Calculate derivatives of simple functions using SymPy or manually.\n",
    "  - [ ] Understand the concept of partial derivatives.\n",
    "  [!TIP]\n",
    "  > Further information. [Link](https://www.youtube.com/watch?v=e73033jZTCI&themeRefresh=1)"
   ]
  },
  {
   "cell_type": "code",
   "execution_count": 8,
   "id": "3fead3d3",
   "metadata": {
    "scrolled": true
   },
   "outputs": [
    {
     "name": "stdout",
     "output_type": "stream",
     "text": [
      "expression: x**2 + y**3 \n",
      "derivative_x : 2*x \n"
     ]
    }
   ],
   "source": [
    "from sympy import symbols, diff\n",
    "\n",
    "x, y = symbols('x y')\n",
    "\n",
    "expression = x**2 + y**3\n",
    "print(f\"expression: {expression} \")\n",
    "\n",
    "derivative_x = diff(expression, x)\n",
    "print(f\"derivative_x : {derivative_x} \")"
   ]
  },
  {
   "cell_type": "markdown",
   "id": "ced77158",
   "metadata": {},
   "source": [
    " ### Integrals:\n",
    "  - [ ] Compute definite and indefinite integrals.\n",
    "  - [ ] Explore double integrals.\n",
    "  \n",
    "\n",
    "   ```Further information. ``` [Link](https://www.youtube.com/watch?v=Stbc1E5t5E4)"
   ]
  },
  {
   "cell_type": "code",
   "execution_count": 11,
   "id": "784e5c39",
   "metadata": {},
   "outputs": [
    {
     "name": "stdout",
     "output_type": "stream",
     "text": [
      "integral_result : y**3 + 1/3 \n"
     ]
    }
   ],
   "source": [
    "# Example: Computing definite integral\n",
    "from sympy import integrate\n",
    "\n",
    "integral_result = integrate(expression, (x, 0, 1))\n",
    "\n",
    "print(f\"integral_result : {integral_result} \")"
   ]
  },
  {
   "cell_type": "markdown",
   "id": "047a4da6",
   "metadata": {},
   "source": [
    " ### Limits:\n",
    "  - [ ] Evaluate limits of functions.\n",
    "\n",
    "   ```Further information. ``` [Link](https://www.youtube.com/watch?v=riXcZT2ICjA)"
   ]
  },
  {
   "cell_type": "code",
   "execution_count": 12,
   "id": "76953417",
   "metadata": {},
   "outputs": [
    {
     "name": "stdout",
     "output_type": "stream",
     "text": [
      "limit_result : 0 \n"
     ]
    }
   ],
   "source": [
    "# Example: Evaluating a limit\n",
    "from sympy import limit, oo\n",
    "\n",
    "limit_result = limit(1/x, x, oo)\n",
    "print(f\"limit_result : {limit_result} \")"
   ]
  },
  {
   "cell_type": "markdown",
   "id": "2131478c",
   "metadata": {},
   "source": [
    "## Pythonic Mathematics:"
   ]
  },
  {
   "cell_type": "markdown",
   "id": "5dfbce15",
   "metadata": {},
   "source": [
    " ### Useful Libraries:\n",
    "  - [ ]  Explore SymPy for symbolic mathematics.\n",
    "  - [ ] Practice solving equations and expressions symbolically."
   ]
  },
  {
   "cell_type": "code",
   "execution_count": 14,
   "id": "0623d49d",
   "metadata": {},
   "outputs": [
    {
     "name": "stdout",
     "output_type": "stream",
     "text": [
      "solution : [-2, 2] \n"
     ]
    }
   ],
   "source": [
    "# Example: Solving a symbolic equation\n",
    "from sympy import solve\n",
    "\n",
    "equation = x**2 - 4\n",
    "solution = solve(equation, x)\n",
    "print(f\"solution : {solution} \")"
   ]
  },
  {
   "cell_type": "markdown",
   "id": "c9228687",
   "metadata": {},
   "source": [
    " ### Visualization::\n",
    "  - [ ]  Visualize mathematical concepts using Matplotlib."
   ]
  },
  {
   "cell_type": "code",
   "execution_count": 16,
   "id": "5ded9e1a",
   "metadata": {
    "scrolled": true
   },
   "outputs": [
    {
     "name": "stdout",
     "output_type": "stream",
     "text": [
      "Collecting matplotlib\n",
      "  Downloading matplotlib-3.8.2-cp311-cp311-win_amd64.whl.metadata (5.9 kB)\n",
      "Collecting contourpy>=1.0.1 (from matplotlib)\n",
      "  Downloading contourpy-1.2.0-cp311-cp311-win_amd64.whl.metadata (5.8 kB)\n",
      "Collecting cycler>=0.10 (from matplotlib)\n",
      "  Downloading cycler-0.12.1-py3-none-any.whl.metadata (3.8 kB)\n",
      "Collecting fonttools>=4.22.0 (from matplotlib)\n",
      "  Downloading fonttools-4.46.0-cp311-cp311-win_amd64.whl.metadata (159 kB)\n",
      "     ---------------------------------------- 0.0/159.4 kB ? eta -:--:--\n",
      "     -- ------------------------------------- 10.2/159.4 kB ? eta -:--:--\n",
      "     ------- ----------------------------- 30.7/159.4 kB 660.6 kB/s eta 0:00:01\n",
      "     ----------------------------- -------- 122.9/159.4 kB 1.2 MB/s eta 0:00:01\n",
      "     -------------------------------------- 159.4/159.4 kB 1.4 MB/s eta 0:00:00\n",
      "Collecting kiwisolver>=1.3.1 (from matplotlib)\n",
      "  Downloading kiwisolver-1.4.5-cp311-cp311-win_amd64.whl.metadata (6.5 kB)\n",
      "Requirement already satisfied: numpy<2,>=1.21 in c:\\users\\mrafiq\\.conda\\envs\\chatbot\\lib\\site-packages (from matplotlib) (1.24.1)\n",
      "Requirement already satisfied: packaging>=20.0 in c:\\users\\mrafiq\\.conda\\envs\\chatbot\\lib\\site-packages (from matplotlib) (23.1)\n",
      "Requirement already satisfied: pillow>=8 in c:\\users\\mrafiq\\.conda\\envs\\chatbot\\lib\\site-packages (from matplotlib) (9.3.0)\n",
      "Collecting pyparsing>=2.3.1 (from matplotlib)\n",
      "  Downloading pyparsing-3.1.1-py3-none-any.whl.metadata (5.1 kB)\n",
      "Requirement already satisfied: python-dateutil>=2.7 in c:\\users\\mrafiq\\.conda\\envs\\chatbot\\lib\\site-packages (from matplotlib) (2.8.2)\n",
      "Requirement already satisfied: six>=1.5 in c:\\users\\mrafiq\\.conda\\envs\\chatbot\\lib\\site-packages (from python-dateutil>=2.7->matplotlib) (1.16.0)\n",
      "Downloading matplotlib-3.8.2-cp311-cp311-win_amd64.whl (7.6 MB)\n",
      "   ---------------------------------------- 0.0/7.6 MB ? eta -:--:--\n",
      "   - -------------------------------------- 0.2/7.6 MB 6.7 MB/s eta 0:00:02\n",
      "   -- ------------------------------------- 0.5/7.6 MB 6.2 MB/s eta 0:00:02\n",
      "   ---- ----------------------------------- 0.8/7.6 MB 6.6 MB/s eta 0:00:02\n",
      "   ------ --------------------------------- 1.2/7.6 MB 7.1 MB/s eta 0:00:01\n",
      "   --------- ------------------------------ 1.8/7.6 MB 8.0 MB/s eta 0:00:01\n",
      "   ------------ --------------------------- 2.5/7.6 MB 9.2 MB/s eta 0:00:01\n",
      "   ----------------- ---------------------- 3.4/7.6 MB 10.8 MB/s eta 0:00:01\n",
      "   ------------------------ --------------- 4.6/7.6 MB 12.8 MB/s eta 0:00:01\n",
      "   ------------------------------ --------- 5.8/7.6 MB 14.2 MB/s eta 0:00:01\n",
      "   ------------------------------------ --- 7.0/7.6 MB 15.4 MB/s eta 0:00:01\n",
      "   ---------------------------------------  7.6/7.6 MB 16.3 MB/s eta 0:00:01\n",
      "   ---------------------------------------- 7.6/7.6 MB 14.8 MB/s eta 0:00:00\n",
      "Downloading contourpy-1.2.0-cp311-cp311-win_amd64.whl (187 kB)\n",
      "   ---------------------------------------- 0.0/187.6 kB ? eta -:--:--\n",
      "   --------------------------------------- 187.6/187.6 kB 11.1 MB/s eta 0:00:00\n",
      "Downloading cycler-0.12.1-py3-none-any.whl (8.3 kB)\n",
      "Downloading fonttools-4.46.0-cp311-cp311-win_amd64.whl (2.2 MB)\n",
      "   ---------------------------------------- 0.0/2.2 MB ? eta -:--:--\n",
      "   --------------- ------------------------ 0.9/2.2 MB 18.3 MB/s eta 0:00:01\n",
      "   -------------------------------- ------- 1.8/2.2 MB 19.2 MB/s eta 0:00:01\n",
      "   ---------------------------------------- 2.2/2.2 MB 17.3 MB/s eta 0:00:00\n",
      "Downloading kiwisolver-1.4.5-cp311-cp311-win_amd64.whl (56 kB)\n",
      "   ---------------------------------------- 0.0/56.1 kB ? eta -:--:--\n",
      "   ---------------------------------------- 56.1/56.1 kB ? eta 0:00:00\n",
      "Downloading pyparsing-3.1.1-py3-none-any.whl (103 kB)\n",
      "   ---------------------------------------- 0.0/103.1 kB ? eta -:--:--\n",
      "   ---------------------------------------- 103.1/103.1 kB 6.2 MB/s eta 0:00:00\n",
      "Installing collected packages: pyparsing, kiwisolver, fonttools, cycler, contourpy, matplotlib\n",
      "Successfully installed contourpy-1.2.0 cycler-0.12.1 fonttools-4.46.0 kiwisolver-1.4.5 matplotlib-3.8.2 pyparsing-3.1.1\n"
     ]
    }
   ],
   "source": [
    "!pip install matplotlib"
   ]
  },
  {
   "cell_type": "code",
   "execution_count": 17,
   "id": "d62324db",
   "metadata": {
    "scrolled": true
   },
   "outputs": [
    {
     "data": {
      "image/png": "[encoded data removed]",
      "text/plain": [
       "<Figure size 640x480 with 1 Axes>"
      ]
     },
     "metadata": {},
     "output_type": "display_data"
    }
   ],
   "source": [
    "# Example: Plotting a function\n",
    "import matplotlib.pyplot as plt\n",
    "import numpy as np\n",
    "\n",
    "x_values = np.linspace(-5, 5, 100)\n",
    "y_values = x_values**2\n",
    "plt.plot(x_values, y_values)\n",
    "plt.show()\n"
   ]
  },
  {
   "cell_type": "markdown",
   "id": "224465cd",
   "metadata": {},
   "source": [
    " ### Applied Linear Algebra:\n",
    "  - [ ] Apply linear algebra to real-world problems, such as solving systems of linear equations."
   ]
  },
  {
   "cell_type": "code",
   "execution_count": 18,
   "id": "17f4a88f",
   "metadata": {},
   "outputs": [
    {
     "name": "stdout",
     "output_type": "stream",
     "text": [
      "solution : [2.71428571 0.85714286] \n"
     ]
    }
   ],
   "source": [
    "# Example: Solving a system of linear equations\n",
    "coefficients = np.array([[2, 3], [1, -2]])\n",
    "constants = np.array([8, 1])\n",
    "\n",
    "solution = np.linalg.solve(coefficients, constants)\n",
    "\n",
    "print(f\"solution : {solution} \")"
   ]
  }
 ],
 "metadata": {
  "kernelspec": {
   "display_name": "Python 3 (ipykernel)",
   "language": "python",
   "name": "python3"
  },
  "language_info": {
   "codemirror_mode": {
    "name": "ipython",
    "version": 3
   },
   "file_extension": ".py",
   "mimetype": "text/x-python",
   "name": "python",
   "nbconvert_exporter": "python",
   "pygments_lexer": "ipython3",
   "version": "3.11.5"
  }
 },
 "nbformat": 4,
 "nbformat_minor": 5
}
